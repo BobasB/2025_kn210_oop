{
 "cells": [
  {
   "cell_type": "markdown",
   "id": "cc031ddb",
   "metadata": {},
   "source": [
    "# Порівняння класичних структур та ООП\n",
    "Завдання\n",
    "- порівнняти використання вбудованих структур для опису ітемів в грі"
   ]
  },
  {
   "cell_type": "code",
   "execution_count": 21,
   "id": "f53ca670",
   "metadata": {},
   "outputs": [
    {
     "name": "stdout",
     "output_type": "stream",
     "text": [
      "<class 'dict'>\n",
      "Нам випав Sword з назвою Excalibur з якістю: Legendary.\n",
      " item_sword = A legendary sword of immense power.\n",
      "Нам випав Spear з назвою Excalibur з якістю: Epic.\n",
      " item_spear = The spear that never misses its target.\n"
     ]
    }
   ],
   "source": [
    "item_sword = {\n",
    "    \"name\": \"Excalibur\",\n",
    "    \"rarity\": \"Legendary\",\n",
    "    \"type\": \"Sword\",\n",
    "    \"damage\": 50,\n",
    "    \"durability\": 100,\n",
    "    \"weight\": 12.5,\n",
    "    \"description\": \"A legendary sword of immense power.\",\n",
    "}\n",
    "print(type(item_sword))\n",
    "\n",
    "item_spear = {\n",
    "    \"name\": \"Gungnir\",\n",
    "    \"rarity\": \"Epic\",\n",
    "    \"type\": \"Spear\",\n",
    "    \"damage\": 40,\n",
    "    \"durability\": 140,\n",
    "    \"weight\": 10.0,\n",
    "    \"description\": \"The spear that never misses its target.\",\n",
    "}\n",
    "\n",
    "print(f\"Нам випав {item_sword[\"type\"]} з назвою {item_sword[\"name\"]} з якістю: {item_sword['rarity']}.\\n item_sword = {item_sword[\"description\"]}\")\n",
    "\n",
    "print(f\"Нам випав {item_spear[\"type\"]} з назвою {item_sword[\"name\"]} з якістю: {item_spear['rarity']}.\\n item_spear = {item_spear[\"description\"]}\")\n"
   ]
  },
  {
   "cell_type": "code",
   "execution_count": 14,
   "id": "75a35336",
   "metadata": {},
   "outputs": [
    {
     "name": "stdout",
     "output_type": "stream",
     "text": [
      "Ви промахнулись!\n",
      "АІ робить хід у відповідь...\n",
      "АІ промахнувся!\n",
      "Міцність меча: 100, Міцність списа: 140\n",
      "Ви влучили і нанесли 50 ушкоджень спису! У списа залишилось 90 міцності.\n",
      "АІ робить хід у відповідь...\n",
      "АІ влучив і наніс 40 ушкоджень мечу! У меча залишилось 60 міцності.\n",
      "Міцність меча: 60, Міцність списа: 90\n",
      "Ви промахнулись!\n",
      "АІ робить хід у відповідь...\n",
      "АІ влучив і наніс 40 ушкоджень мечу! У меча залишилось 20 міцності.\n",
      "Міцність меча: 20, Міцність списа: 90\n"
     ]
    }
   ],
   "source": [
    "import random\n",
    "# покрокова гра, де ми вибираємо чи атакувати чи захищатись\n",
    "# при атаці ми наносимо випадково можемо промахнутись або зменшити durability іншого предмету\n",
    "# гра закінчується коли durability одного з предметів досягає 0\n",
    "for move in range(3):\n",
    "    action = input(\"Виберіть дію (атакувати/захищатись): \").strip().lower()\n",
    "    if action == \"атакувати\":\n",
    "        hit_chance = random.randint(1, 10)\n",
    "        if hit_chance > 3:  # 70% шанс влучити\n",
    "            damage = item_sword[\"damage\"]\n",
    "            item_spear[\"durability\"] -= damage\n",
    "            print(f\"Ви влучили і нанесли {damage} ушкоджень спису! У списа залишилось {item_spear['durability']} міцності.\")\n",
    "        else:\n",
    "            print(\"Ви промахнулись!\")\n",
    "    elif action == \"захищатись\":\n",
    "        heal = random.randint(5, 15)\n",
    "        item_sword[\"durability\"] += heal\n",
    "        print(f\"Ви відновили {heal} одиниць міцності меча!\")\n",
    "    else:\n",
    "        print(\"Невідома дія. Спробуйте ще раз.\")\n",
    "    print(\"АІ робить хід у відповідь...\")\n",
    "    ai_action = random.choice([\"атакувати\", \"захищатись\"])\n",
    "    if ai_action == \"атакувати\":\n",
    "        hit_chance = random.randint(1, 10)\n",
    "        if hit_chance > 2:  # 80% шанс влучити\n",
    "            damage = item_spear[\"damage\"]\n",
    "            item_sword[\"durability\"] -= damage\n",
    "            print(f\"АІ влучив і наніс {damage} ушкоджень мечу! У меча залишилось {item_sword['durability']} міцності.\")\n",
    "        else:\n",
    "            print(\"АІ промахнувся!\")\n",
    "    elif ai_action == \"захищатись\":\n",
    "        heal = random.randint(5, 15)\n",
    "        item_spear[\"durability\"] += heal\n",
    "        print(f\"АІ відновив {heal} одиниць міцності списа!\")\n",
    "    \n",
    "    print(f\"Міцність меча: {item_sword['durability']}, Міцність списа: {item_spear['durability']}\")\n",
    "\n",
    "    if item_sword[\"durability\"] <= 0:\n",
    "        print(\"Ваш меч зламався! Ви програли.\")\n",
    "        break\n",
    "    if item_spear[\"durability\"] <= 0:\n",
    "        print(\"Спис зламався! Ви виграли.\")\n",
    "        break\n"
   ]
  },
  {
   "cell_type": "markdown",
   "id": "6a4e2785",
   "metadata": {},
   "source": [
    "# Переробляємо наші ітеми на ООП\n",
    "```python\n",
    "item_sword = {\n",
    "    \"name\": \"Excalibur\",\n",
    "    \"rarity\": \"Legendary\",\n",
    "    \"type\": \"Sword\",\n",
    "    \"damage\": 50,\n",
    "    \"durability\": 100,\n",
    "    \"weight\": 12.5,\n",
    "    \"description\": \"A legendary sword of immense power.\",\n",
    "}\n",
    "```\n",
    "- створюємо власний клас який як мінімум зможе описувати дану структуру словника"
   ]
  },
  {
   "cell_type": "code",
   "execution_count": null,
   "id": "5634e569",
   "metadata": {},
   "outputs": [],
   "source": [
    "class Item:\n",
    "    # Будь-який клас посчинається з визначення конструктора __init__\n",
    "    # Конструктор приймає аргументи для ініціалізації атрибутів об'єкта\n",
    "    def __init__(self, name, rarity, type_, damage, durability, weight, description):\n",
    "        # Ініціалізація атрибутів об'єкта\n",
    "        self.name = name\n",
    "        self.rarity = rarity\n",
    "        self.type = type_\n",
    "        self.damage = damage\n",
    "        self.durability = durability\n",
    "        self.weight = weight\n",
    "        self.description = description\n",
    "        self.info = description\n",
    "    \n",
    "    "
   ]
  },
  {
   "cell_type": "code",
   "execution_count": 24,
   "id": "28078885",
   "metadata": {},
   "outputs": [
    {
     "name": "stdout",
     "output_type": "stream",
     "text": [
      "<class '__main__.Item'>\n",
      "Створено об'єкт меча з назвою Excalibur і типом Sword.\n",
      "Опис меча: A legendary sword of immense power. те саме що і: A legendary sword of immense power.\n"
     ]
    }
   ],
   "source": [
    "object_sword = Item(\n",
    "    name=\"Excalibur\",\n",
    "    rarity=\"Legendary\",\n",
    "    type_=\"Sword\",\n",
    "    damage=50,\n",
    "    durability=100,\n",
    "    weight=12.5,\n",
    "    description=\"A legendary sword of immense power.\"\n",
    ")\n",
    "\n",
    "print(f\"{type(object_sword)}\\nСтворено об'єкт меча з назвою {object_sword.name} і типом {object_sword.type}.\")\n",
    "print(f\"Опис меча: {object_sword.info} те саме що і: {object_sword.description}\")"
   ]
  },
  {
   "cell_type": "code",
   "execution_count": null,
   "id": "a5003e7b",
   "metadata": {},
   "outputs": [
    {
     "name": "stdout",
     "output_type": "stream",
     "text": [
      "dict_values(['Excalibur', 'Legendary', 'Sword', 50, 100, 12.5, 'A legendary sword of immense power.'])\n"
     ]
    }
   ],
   "source": [
    "test = [{\"name\": \"Екскалібур\"}, ]\n",
    "print(f\"\")"
   ]
  }
 ],
 "metadata": {
  "kernelspec": {
   "display_name": "3.13.7",
   "language": "python",
   "name": "python3"
  },
  "language_info": {
   "codemirror_mode": {
    "name": "ipython",
    "version": 3
   },
   "file_extension": ".py",
   "mimetype": "text/x-python",
   "name": "python",
   "nbconvert_exporter": "python",
   "pygments_lexer": "ipython3",
   "version": "3.13.7"
  }
 },
 "nbformat": 4,
 "nbformat_minor": 5
}
