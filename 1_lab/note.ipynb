{
 "cells": [
  {
   "cell_type": "markdown",
   "id": "e0ecbb20",
   "metadata": {},
   "source": [
    "# Перша програма в інтерактивному режимі\n",
    "> задамо змінну"
   ]
  },
  {
   "cell_type": "code",
   "execution_count": 9,
   "id": "c7b76b7e",
   "metadata": {},
   "outputs": [],
   "source": [
    "a = \"Привіт, світ! Ми почали вивчати Python!\""
   ]
  },
  {
   "cell_type": "markdown",
   "id": "468cc5d7",
   "metadata": {},
   "source": [
    "> виведемо цю змінну але в іншій комірці"
   ]
  },
  {
   "cell_type": "code",
   "execution_count": 10,
   "id": "1a5bb2c3",
   "metadata": {},
   "outputs": [
    {
     "name": "stdout",
     "output_type": "stream",
     "text": [
      "Привіт, світ! Ми почали вивчати Python!\n"
     ]
    }
   ],
   "source": [
    "print(a)"
   ]
  }
 ],
 "metadata": {
  "kernelspec": {
   "display_name": "Python 3",
   "language": "python",
   "name": "python3"
  },
  "language_info": {
   "codemirror_mode": {
    "name": "ipython",
    "version": 3
   },
   "file_extension": ".py",
   "mimetype": "text/x-python",
   "name": "python",
   "nbconvert_exporter": "python",
   "pygments_lexer": "ipython3",
   "version": "3.12.9"
  }
 },
 "nbformat": 4,
 "nbformat_minor": 5
}
